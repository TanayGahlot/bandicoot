{
 "cells": [
  {
   "cell_type": "markdown",
   "metadata": {},
   "source": [
    "# Loading in a user"
   ]
  },
  {
   "cell_type": "code",
   "execution_count": 1,
   "metadata": {
    "collapsed": false,
    "scrolled": true
   },
   "outputs": [
    {
     "name": "stdout",
     "output_type": "stream",
     "text": [
      "\u001b[32m[x]\u001b[0m 314 records from 2014-03-02 07:13:30 to 2014-04-14 12:04:37\n",
      "\u001b[32m[x]\u001b[0m 6 contacts\n",
      "\u001b[32m[ ]\u001b[0m No attributes stored\n",
      "\u001b[32m[x]\u001b[0m 27 antennas\n",
      "\u001b[32m[x]\u001b[0m Has home\n",
      "\u001b[32m[x]\u001b[0m Has texts\n",
      "\u001b[32m[x]\u001b[0m Has calls\n"
     ]
    }
   ],
   "source": [
    "import bandicoot as bc\n",
    "user = bc.read_csv('ego', 'data/', 'data/antennas.csv')"
   ]
  },
  {
   "cell_type": "code",
   "execution_count": 2,
   "metadata": {
    "collapsed": true
   },
   "outputs": [],
   "source": [
    "import pandas\n",
    "from collections import Counter"
   ]
  },
  {
   "cell_type": "code",
   "execution_count": 3,
   "metadata": {
    "collapsed": false
   },
   "outputs": [],
   "source": [
    "df_antennas = pandas.DataFrame(map(lambda (a, b): (a, ) + b, user.antennas.items()))\n",
    "df_antennas.columns = ['id', 'latitude', 'longitude']\n",
    "df_antennas['interactions'] = map(lambda i: sum([1 for r in user.records if r.position.antenna == i]), df_antennas.id)\n",
    "df_antennas.to_csv('viz/mobility_view/antenna.csv', index=False)"
   ]
  },
  {
   "cell_type": "code",
   "execution_count": 4,
   "metadata": {
    "collapsed": false
   },
   "outputs": [],
   "source": [
    "antennas_id = [r.position.antenna for r in user.records]\n",
    "transitions = Counter([(min(i, j), max(i, j)) for (i, j) in zip(antennas_id, antennas_id[1:])])\n",
    "df_transitions = pandas.DataFrame([a + (count, ) for a, count in transitions.items()])\n",
    "df_transitions.columns = ['source', 'target', 'amount']\n",
    "df_transitions = df_transitions[df_transitions.source != df_transitions.target]\n",
    "df_transitions.to_csv('viz/mobility_view/transitions.csv', index=False)"
   ]
  },
  {
   "cell_type": "code",
   "execution_count": 5,
   "metadata": {
    "collapsed": false,
    "scrolled": true
   },
   "outputs": [
    {
     "data": {
      "text/html": [
       "<iframe src=\"viz/mobility_view/index.html\" width=\"100%\" height=\"400px\">"
      ],
      "text/plain": [
       "<IPython.core.display.HTML object>"
      ]
     },
     "metadata": {},
     "output_type": "display_data"
    }
   ],
   "source": [
    "%%html\n",
    "<iframe src=\"viz/mobility_view/index.html\" width=\"100%\" height=\"400px\">"
   ]
  },
  {
   "cell_type": "markdown",
   "metadata": {},
   "source": [
    "## Event Timeline"
   ]
  },
  {
   "cell_type": "code",
   "execution_count": 6,
   "metadata": {
    "collapsed": false
   },
   "outputs": [],
   "source": [
    "timeline = pandas.DataFrame([(r.datetime, ('inc_' if r.direction == 'in' else 'out_') + r.interaction, r.call_duration) for r in user.records])\n",
    "timeline.columns = ['time', 'type', 'call_duration']\n",
    "timeline['time'] = timeline['time'].map(lambda x: x.strftime('%d-%m-%y %H:%M'))\n",
    "timeline.to_csv('viz/event_timeline/timeseries.csv', index=False)"
   ]
  },
  {
   "cell_type": "code",
   "execution_count": 7,
   "metadata": {
    "collapsed": false,
    "scrolled": false
   },
   "outputs": [
    {
     "data": {
      "text/html": [
       "<iframe src=\"viz/event_timeline/index.html\" width=\"100%\" height=\"400px\">"
      ],
      "text/plain": [
       "<IPython.core.display.HTML object>"
      ]
     },
     "metadata": {},
     "output_type": "display_data"
    }
   ],
   "source": [
    "%%html\n",
    "<iframe src=\"viz/event_timeline/index.html\" width=\"100%\" height=\"400px\">"
   ]
  },
  {
   "cell_type": "markdown",
   "metadata": {},
   "source": [
    "## Network view"
   ]
  },
  {
   "cell_type": "code",
   "execution_count": 8,
   "metadata": {
    "collapsed": false
   },
   "outputs": [],
   "source": [
    "m_texts = bc.network._interaction_matrix_text(user)\n",
    "m_calls = bc.network._interaction_matrix_call(user)\n",
    "nb_users = len(m_texts)\n",
    "\n",
    "df_links = pandas.DataFrame([(i, j, m_calls[j][i], m_calls[i][j], m_texts[j][i], m_texts[i][j]) for i in range(nb_users) for j in range(nb_users)]).fillna(0)\n",
    "df_links.columns = ['source', 'target', 'inc_calls', 'out_calls', 'inc_texts', 'out_texts']\n",
    "df_links = df_links[df_links[['inc_calls', 'out_calls', 'inc_texts', 'out_texts']].sum(axis=1) > 0]\n",
    "df_links = df_links[df_links.source < df_links.target]\n",
    "df_links.to_csv('viz/network_view/links.csv', index=False)"
   ]
  },
  {
   "cell_type": "code",
   "execution_count": 9,
   "metadata": {
    "collapsed": false
   },
   "outputs": [],
   "source": [
    "nodes = set(df_links.source) | set(df_links.target)\n",
    "pandas.DataFrame([int(None in m_texts[n] or None in m_calls[n]) for n in nodes], columns=['no_network_info']).to_csv('viz/network_view/nodes.csv', index=False)"
   ]
  },
  {
   "cell_type": "code",
   "execution_count": 10,
   "metadata": {
    "collapsed": false,
    "scrolled": false
   },
   "outputs": [
    {
     "data": {
      "text/html": [
       "<iframe src=\"viz/network_view/index.html\" width=\"100%\" height=\"400px\">"
      ],
      "text/plain": [
       "<IPython.core.display.HTML object>"
      ]
     },
     "metadata": {},
     "output_type": "display_data"
    }
   ],
   "source": [
    "%%html\n",
    "<iframe src=\"viz/network_view/index.html\" width=\"100%\" height=\"400px\">"
   ]
  }
 ],
 "metadata": {
  "kernelspec": {
   "display_name": "Python 2",
   "language": "python",
   "name": "python2"
  },
  "language_info": {
   "codemirror_mode": {
    "name": "ipython",
    "version": 2
   },
   "file_extension": ".py",
   "mimetype": "text/x-python",
   "name": "python",
   "nbconvert_exporter": "python",
   "pygments_lexer": "ipython2",
   "version": "2.7.9"
  }
 },
 "nbformat": 4,
 "nbformat_minor": 0
}
