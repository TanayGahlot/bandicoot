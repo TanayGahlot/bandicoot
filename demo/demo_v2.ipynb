{
 "cells": [
  {
   "cell_type": "markdown",
   "metadata": {},
   "source": [
    "# Loading in a user"
   ]
  },
  {
   "cell_type": "code",
   "execution_count": 3,
   "metadata": {
    "collapsed": false
   },
   "outputs": [
    {
     "name": "stdout",
     "output_type": "stream",
     "text": [
      "\u001b[32m[x]\u001b[0m 21 records from 2014-07-01 11:11:27 to 2014-07-20 11:26:27\n",
      "\u001b[32m[x]\u001b[0m 5 contacts\n",
      "\u001b[32m[ ]\u001b[0m No attributes stored\n",
      "\u001b[32m[x]\u001b[0m 17 antennas\n",
      "\u001b[32m[x]\u001b[0m Has home\n",
      "\u001b[32m[x]\u001b[0m Has texts\n",
      "\u001b[32m[x]\u001b[0m Has calls\n"
     ]
    }
   ],
   "source": [
    "import bandicoot as bc\n",
    "user = bc.read_csv('user', 'data/', 'data/towers.csv')"
   ]
  },
  {
   "cell_type": "code",
   "execution_count": 4,
   "metadata": {
    "collapsed": true
   },
   "outputs": [],
   "source": [
    "import pandas\n",
    "from collections import Counter"
   ]
  },
  {
   "cell_type": "code",
   "execution_count": 21,
   "metadata": {
    "collapsed": false
   },
   "outputs": [],
   "source": [
    "antennas = [(r.position.antenna,) + r.position._get_location(user) for r in user.records]\n",
    "df_antennas = pandas.DataFrame([a + (count, ) for a, count in Counter(antennas).items()])\n",
    "df_antennas.columns = ['id', 'latitude', 'longitude', 'interactions']\n",
    "df_antennas.to_csv('viz/mobility_view/antenna.csv', index=False)\n",
    "\n",
    "antennas_id = [a[0] for a in antennas]\n",
    "transitions = Counter(zip(antennas_id, antennas_id[1:]))\n",
    "df_transitions = pandas.DataFrame([a + (count, ) for a, count in transitions.items()])\n",
    "df_transitions.columns = ['source', 'target', 'amount']\n",
    "df_transitions.to_csv('viz/mobility_view/transitions.csv', index=False)"
   ]
  },
  {
   "cell_type": "code",
   "execution_count": 22,
   "metadata": {
    "collapsed": false,
    "scrolled": true
   },
   "outputs": [
    {
     "data": {
      "text/html": [
       "<iframe src=\"viz/mobility_view/index.html\" width=\"100%\" height=\"400px\">"
      ],
      "text/plain": [
       "<IPython.core.display.HTML object>"
      ]
     },
     "metadata": {},
     "output_type": "display_data"
    }
   ],
   "source": [
    "%%html\n",
    "<iframe src=\"viz/mobility_view/index.html\" width=\"100%\" height=\"400px\">"
   ]
  },
  {
   "cell_type": "markdown",
   "metadata": {},
   "source": [
    "## Event Timeline"
   ]
  },
  {
   "cell_type": "code",
   "execution_count": 16,
   "metadata": {
    "collapsed": false
   },
   "outputs": [],
   "source": [
    "timeline = pandas.DataFrame([(r.datetime, ('inc_' if r.direction == 'in' else 'out_') + r.interaction, r.call_duration) for r in user.records])\n",
    "timeline.columns = ['time', 'type', 'call_duration']\n",
    "timeline['time'] = timeline['time'].map(lambda x: x.strftime('%d-%m-%y %H:%M'))\n",
    "timeline.to_csv('viz/event_timeline/timeseries.csv', index=False)"
   ]
  },
  {
   "cell_type": "code",
   "execution_count": 17,
   "metadata": {
    "collapsed": false,
    "scrolled": false
   },
   "outputs": [
    {
     "data": {
      "text/html": [
       "<iframe src=\"viz/event_timeline/index.html\" width=\"100%\" height=\"400px\">"
      ],
      "text/plain": [
       "<IPython.core.display.HTML object>"
      ]
     },
     "metadata": {},
     "output_type": "display_data"
    }
   ],
   "source": [
    "%%html\n",
    "<iframe src=\"viz/event_timeline/index.html\" width=\"100%\" height=\"400px\">"
   ]
  },
  {
   "cell_type": "markdown",
   "metadata": {},
   "source": [
    "## Network view"
   ]
  },
  {
   "cell_type": "code",
   "execution_count": 27,
   "metadata": {
    "collapsed": false
   },
   "outputs": [],
   "source": [
    "# Nodes\n",
    "pandas.DataFrame([0] + [0 + (i is None) for (key, i) in user.network.items() if key != user.name], columns=['no_network_info']).to_csv('viz/network_view/nodes.csv', index=False)"
   ]
  },
  {
   "cell_type": "code",
   "execution_count": 52,
   "metadata": {
    "collapsed": false
   },
   "outputs": [],
   "source": [
    "m_texts = bc.network._interaction_matrix_text(user)\n",
    "m_calls = bc.network._interaction_matrix_call(user)\n",
    "nb_users = len(user.network)\n",
    "\n",
    "df_links = pandas.DataFrame([(i, j, m_texts[j][i], m_texts[i][j], m_calls[j][i], m_calls[i][j]) for i in range(nb_users) for j in range(nb_users)]).fillna(0)\n",
    "df_links.columns = ['source', 'target', 'inc_calls', 'out_calls', 'inc_texts', 'out_texts']\n",
    "df_links = df_links[df_links[['inc_calls', 'out_calls', 'inc_texts', 'out_texts']].sum(axis=1) > 0]\n",
    "df_links = df_links[df_links.source < df_links.target]\n",
    "df_links.to_csv('viz/network_view/links.csv', index=False)"
   ]
  },
  {
   "cell_type": "code",
   "execution_count": 70,
   "metadata": {
    "collapsed": false
   },
   "outputs": [],
   "source": [
    "nodes = set(df_links.source) | set(df_links.target)\n",
    "pandas.DataFrame([int(n in df_links.source) for n in nodes], columns=['no_network_info']).to_csv('viz/network_view/nodes.csv', index=False)"
   ]
  },
  {
   "cell_type": "code",
   "execution_count": 71,
   "metadata": {
    "collapsed": false
   },
   "outputs": [
    {
     "data": {
      "text/html": [
       "<iframe src=\"viz/network_view/index.html\" width=\"100%\" height=\"400px\">"
      ],
      "text/plain": [
       "<IPython.core.display.HTML object>"
      ]
     },
     "metadata": {},
     "output_type": "display_data"
    }
   ],
   "source": [
    "%%html\n",
    "<iframe src=\"viz/network_view/index.html\" width=\"100%\" height=\"400px\">"
   ]
  },
  {
   "cell_type": "code",
   "execution_count": null,
   "metadata": {
    "collapsed": true
   },
   "outputs": [],
   "source": []
  }
 ],
 "metadata": {
  "kernelspec": {
   "display_name": "Python 2",
   "language": "python",
   "name": "python2"
  },
  "language_info": {
   "codemirror_mode": {
    "name": "ipython",
    "version": 2
   },
   "file_extension": ".py",
   "mimetype": "text/x-python",
   "name": "python",
   "nbconvert_exporter": "python",
   "pygments_lexer": "ipython2",
   "version": "2.7.9"
  }
 },
 "nbformat": 4,
 "nbformat_minor": 0
}
