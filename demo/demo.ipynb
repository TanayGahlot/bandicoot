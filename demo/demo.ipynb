{
 "cells": [
  {
   "cell_type": "markdown",
   "metadata": {},
   "source": [
    "### Bandicoot\n",
    "\n",
    "_bandicoot_ is a Python toolbox to extract behavioral indicators from metadata. It has been created by Yves-Alexandre de Montjoye, Luc Rocher and Alex Pentland at the MIT Media Lab with help from Florent Robic, Kevin Mustelier, Walter Menendez, Zachary Neeley, and Keeley Erhardt.\n",
    "\n",
    "Documentation: http://bandicoot.mit.edu/docs\n",
    "\n",
    "<hr>"
   ]
  },
  {
   "cell_type": "code",
   "execution_count": 1,
   "metadata": {
    "collapsed": false
   },
   "outputs": [
    {
     "name": "stdout",
     "output_type": "stream",
     "text": [
      "Populating the interactive namespace from numpy and matplotlib\n"
     ]
    }
   ],
   "source": [
    "%pylab inline\n",
    "import seaborn as sns"
   ]
  },
  {
   "cell_type": "markdown",
   "metadata": {},
   "source": [
    "### Input file\n",
    "\n",
    "Scheme for ``read_csv``:\n",
    "> ``interaction,direction,correspondent_id,datetime,call_duration,antenna_id``\n",
    "\n",
    "Scheme for ``read_orange``:\n",
    "> ``call_record_type;basic_service;user_msisdn;call_partner_identity;datetime;call_duration;longitude;latitude``"
   ]
  },
  {
   "cell_type": "code",
   "execution_count": 2,
   "metadata": {
    "collapsed": false
   },
   "outputs": [
    {
     "name": "stdout",
     "output_type": "stream",
     "text": [
      "interaction,direction,correspondent_id,datetime,call_duration,antenna_id\r\n",
      "call,out,d163ffb87507757a4b71c0bd8ae4b0a88b1b13bb,2014-07-01 11:11:27,1440,606\r\n",
      "call,out,9b7d7a1ec529cb5252e4b1e50f70cff853e591,2014-07-01 16:42:30,2220,848\r\n",
      "call,in,9b7d7a1ec529cb5252e4b1e50f70cff853e591,2014-07-01 17:14:34,2460,897\r\n",
      "text,out,ceb8ba95396da4c0163ed774ba89491d3ae40b63,2014-07-01 17:21:16,,902\r\n"
     ]
    }
   ],
   "source": [
    "!head -n 5 data/user.csv"
   ]
  },
  {
   "cell_type": "code",
   "execution_count": 3,
   "metadata": {
    "collapsed": false
   },
   "outputs": [
    {
     "name": "stdout",
     "output_type": "stream",
     "text": [
      "place_id,longitude,latitude\r\n",
      "606,12.4894212,55.7836855\r\n",
      "848,12.496692300000001,55.7770971\r\n",
      "897,12.505282699999999,55.7722454\r\n",
      "902,12.506625999999999,55.7719959\r\n"
     ]
    }
   ],
   "source": [
    "!head -n 5 data/towers.csv"
   ]
  },
  {
   "cell_type": "markdown",
   "metadata": {},
   "source": [
    "## Loading a user"
   ]
  },
  {
   "cell_type": "code",
   "execution_count": 4,
   "metadata": {
    "collapsed": false
   },
   "outputs": [
    {
     "name": "stdout",
     "output_type": "stream",
     "text": [
      "\u001b[32m[x]\u001b[0m 21 records from 2014-07-01 11:11:27 to 2014-07-20 11:26:27\n",
      "\u001b[32m[x]\u001b[0m 5 contacts\n",
      "\u001b[32m[ ]\u001b[0m No attributes stored\n",
      "\u001b[32m[x]\u001b[0m 17 antennas\n",
      "\u001b[32m[x]\u001b[0m Has home\n",
      "\u001b[32m[x]\u001b[0m Has texts\n",
      "\u001b[32m[x]\u001b[0m Has calls\n"
     ]
    }
   ],
   "source": [
    "import bandicoot as bc\n",
    "U = bc.read_csv('user', 'data/', 'data/towers.csv')"
   ]
  },
  {
   "cell_type": "code",
   "execution_count": 5,
   "metadata": {
    "collapsed": false
   },
   "outputs": [
    {
     "data": {
      "text/plain": [
       "[Record(interaction='call', direction='out', correspondent_id='d163ffb87507757a4b71c0bd8ae4b0a88b1b13bb', datetime=datetime.datetime(2014, 7, 1, 11, 11, 27), call_duration=1440, position=Position(antenna=606)),\n",
       " Record(interaction='call', direction='out', correspondent_id='9b7d7a1ec529cb5252e4b1e50f70cff853e591', datetime=datetime.datetime(2014, 7, 1, 16, 42, 30), call_duration=2220, position=Position(antenna=848)),\n",
       " Record(interaction='call', direction='in', correspondent_id='9b7d7a1ec529cb5252e4b1e50f70cff853e591', datetime=datetime.datetime(2014, 7, 1, 17, 14, 34), call_duration=2460, position=Position(antenna=897))]"
      ]
     },
     "execution_count": 5,
     "metadata": {},
     "output_type": "execute_result"
    }
   ],
   "source": [
    "U.records[:3]"
   ]
  },
  {
   "cell_type": "markdown",
   "metadata": {},
   "source": [
    "## Individual indicators\n",
    "\n",
    "\n",
    "1. active_daysmobility point.\n",
    "2. number_of_contacts\n",
    "3. number_of_interactions\n",
    "4. duration_of_calls\n",
    "5. percent_nocturnal\n",
    "6. percent_initiated_conversations\n",
    "7. percent_initiated_interactions\n",
    "8. response_delay_text\n",
    "9. response_rate_text\n",
    "10. entropy_of_contacts\n",
    "11. balance_of_contacts\n",
    "12. interactions_per_contact\n",
    "13. interevent_time"
   ]
  },
  {
   "cell_type": "code",
   "execution_count": 6,
   "metadata": {
    "collapsed": false
   },
   "outputs": [
    {
     "data": {
      "text/plain": [
       "{'call': 0.9649629230074277, 'text': 2.022808529414703}"
      ]
     },
     "execution_count": 6,
     "metadata": {},
     "output_type": "execute_result"
    }
   ],
   "source": [
    "bc.individual.entropy_of_contacts(U, groupby=None)"
   ]
  },
  {
   "cell_type": "code",
   "execution_count": 7,
   "metadata": {
    "collapsed": false
   },
   "outputs": [
    {
     "data": {
      "text/plain": [
       "{'callandtext': 1.0}"
      ]
     },
     "execution_count": 7,
     "metadata": {},
     "output_type": "execute_result"
    }
   ],
   "source": [
    "bc.individual.percent_initiated_conversations(U, groupby=None)"
   ]
  },
  {
   "cell_type": "code",
   "execution_count": 8,
   "metadata": {
    "collapsed": false
   },
   "outputs": [
    {
     "data": {
      "image/png": "[encoded data removed]",
      "text/plain": [
       "<matplotlib.figure.Figure at 0x1154d0bd0>"
      ]
     },
     "metadata": {},
     "output_type": "display_data"
    }
   ],
   "source": [
    "interevent = bc.individual.interevent_time(U, groupby=None, summary=None)\n",
    "\n",
    "f, axes = plt.subplots(figsize=(12, 5))\n",
    "sns.distplot(np.log(interevent['call']),  norm_hist=True)\n",
    "title('Distribution of interevent time', fontsize=15)\n",
    "plt.xlabel('Interevent time (second)')\n",
    "plt.ylabel('PDF')\n",
    "_ = plt.xticks(plt.xticks()[0], [int(np.exp(i)) for i in plt.xticks()[0]])"
   ]
  },
  {
   "cell_type": "code",
   "execution_count": 9,
   "metadata": {
    "collapsed": false
   },
   "outputs": [
    {
     "data": {
      "image/png": "[encoded data removed]",
      "text/plain": [
       "<matplotlib.figure.Figure at 0x1157110d0>"
      ]
     },
     "metadata": {},
     "output_type": "display_data"
    }
   ],
   "source": [
    "call_durations = bc.individual.call_duration(U, groupby=None, summary=None)\n",
    "\n",
    "f, ax = plt.subplots(figsize=(12, 5))\n",
    "sns.distplot(np.log(call_durations['call']), kde=True)\n",
    "title('Distribution of call durations', fontsize=15)\n",
    "plt.xlabel('Call duration (second)')\n",
    "plt.ylabel('PDF')\n",
    "_ = plt.xticks(plt.xticks()[0], [int(np.exp(i)) for i in plt.xticks()[0]])"
   ]
  },
  {
   "cell_type": "markdown",
   "metadata": {},
   "source": [
    "## Spatial indicators\n",
    "\n",
    "1. number_of_antennas\n",
    "2. entropy_of_antennas\n",
    "3. percent_at_home\n",
    "4. radius_of_gyration"
   ]
  },
  {
   "cell_type": "code",
   "execution_count": 10,
   "metadata": {
    "collapsed": false
   },
   "outputs": [
    {
     "name": "stdout",
     "output_type": "stream",
     "text": [
      "17\n"
     ]
    }
   ],
   "source": [
    "print bc.spatial.number_of_antennas(U, groupby=None)"
   ]
  },
  {
   "cell_type": "code",
   "execution_count": 11,
   "metadata": {
    "collapsed": false
   },
   "outputs": [
    {
     "data": {
      "text/plain": [
       "4.789371820200058"
      ]
     },
     "execution_count": 11,
     "metadata": {},
     "output_type": "execute_result"
    }
   ],
   "source": [
    "bc.spatial.radius_of_gyration(U, groupby=None)"
   ]
  },
  {
   "cell_type": "code",
   "execution_count": 12,
   "metadata": {
    "collapsed": false
   },
   "outputs": [
    {
     "name": "stdout",
     "output_type": "stream",
     "text": [
      "Home: Position(antenna=1552)\n",
      "Percent at home: 7%\n"
     ]
    }
   ],
   "source": [
    "print \"Home:\", U.home\n",
    "print \"Percent at home: {0:.0f}%\".format(100 * bc.spatial.percent_at_home(U, groupby=None))"
   ]
  },
  {
   "cell_type": "markdown",
   "metadata": {},
   "source": [
    "## Weekly aggregation\n",
    "\n",
    "By default, _bandicoot_ computes the indicators on a weekly basis and returns the mean over all the weeks available and its standard error (sem) in a nested dictionary.\n",
    "\n",
    "The ``groupby='week'`` or ``groupby=None`` keyword controls the aggregation."
   ]
  },
  {
   "cell_type": "code",
   "execution_count": 13,
   "metadata": {
    "collapsed": false
   },
   "outputs": [
    {
     "data": {
      "text/plain": [
       "{'callandtext': {'mean': 1.6666666666666667, 'std': 0.9428090415820634}}"
      ]
     },
     "execution_count": 13,
     "metadata": {},
     "output_type": "execute_result"
    }
   ],
   "source": [
    "bc.individual.active_days(U, groupby=False)"
   ]
  },
  {
   "cell_type": "code",
   "execution_count": 14,
   "metadata": {
    "collapsed": false
   },
   "outputs": [
    {
     "data": {
      "text/plain": [
       "{'callandtext': {'mean': 1.6666666666666667, 'std': 0.9428090415820634}}"
      ]
     },
     "execution_count": 14,
     "metadata": {},
     "output_type": "execute_result"
    }
   ],
   "source": [
    "bc.individual.active_days(U)"
   ]
  },
  {
   "cell_type": "code",
   "execution_count": 15,
   "metadata": {
    "collapsed": false
   },
   "outputs": [
    {
     "data": {
      "text/plain": [
       "{'callandtext': [3, 1, 1]}"
      ]
     },
     "execution_count": 15,
     "metadata": {},
     "output_type": "execute_result"
    }
   ],
   "source": [
    "bc.individual.active_days(U, summary=None)"
   ]
  },
  {
   "cell_type": "markdown",
   "metadata": {},
   "source": [
    "## Summary\n",
    "\n",
    "Some indicators such as _active_days_ returns one number. Others, such as _duration_of_calls_ returns a distribution.\n",
    "\n",
    "The summary keyword can take three values:\n",
    "\n",
    " - `default`: to return mean and sem;\n",
    " - `extended` for the second type of indicators, to return mean, sem, median, skewness and std of the distribution;\n",
    " - `None`: to return the full distribution."
   ]
  },
  {
   "cell_type": "code",
   "execution_count": 16,
   "metadata": {
    "collapsed": false
   },
   "outputs": [
    {
     "data": {
      "text/plain": [
       "{'call': {'kurtosis': 1.7013216688170922,\n",
       "  'max': 2580.0,\n",
       "  'mean': 1573.3333333333333,\n",
       "  'median': 1380.0,\n",
       "  'min': 780.0,\n",
       "  'skewness': 0.3786440420636483,\n",
       "  'std': 644.2221838948285}}"
      ]
     },
     "execution_count": 16,
     "metadata": {},
     "output_type": "execute_result"
    }
   ],
   "source": [
    "bc.individual.call_duration(U, summary='extended', groupby=None)"
   ]
  },
  {
   "cell_type": "code",
   "execution_count": 17,
   "metadata": {
    "collapsed": false
   },
   "outputs": [
    {
     "name": "stdout",
     "output_type": "stream",
     "text": [
      "{'call': [780, 780, 1200, 1320, 1380, 1440, 2220, 2460, 2580]}\n"
     ]
    }
   ],
   "source": [
    "print bc.individual.call_duration(U, summary=None, groupby=None)"
   ]
  },
  {
   "cell_type": "markdown",
   "metadata": {},
   "source": [
    "## Exporting indicators"
   ]
  },
  {
   "cell_type": "code",
   "execution_count": 18,
   "metadata": {
    "collapsed": false
   },
   "outputs": [
    {
     "data": {
      "text/plain": [
       "OrderedDict({'name': 'user',\n",
       "             'reporting': OrderedDict({'antennas_path': 'data/towers.csv',\n",
       "             'attributes_path': None,\n",
       "             'version': '0.2.3',\n",
       "             'groupby': None,\n",
       "             'start_time': '2014-07-01 11:11:27',\n",
       "             'end_time': '2014-07-20 11:26:27',\n",
       "             'bins': 1,\n",
       "             'has_call': True,\n",
       "             'has_text': True,\n",
       "             'has_home': True,\n",
       "             'percent_records_missing_location': 0.0,\n",
       "             'antennas_missing_locations': 0,\n",
       "             'percent_outofnetwork_calls': 1.0,\n",
       "             'percent_outofnetwork_texts': 1.0,\n",
       "             'percent_outofnetwork_contacts': 1.0,\n",
       "             'percent_outofnetwork_call_durations': 1.0,\n",
       "             'number_of_records': 21,\n",
       "             'ignored_records': {'all': 0, 'interaction': 0, 'correspondent_id': 0, 'call_duration': 0, 'direction': 0, 'datetime': 0}}),\n",
       "             'active_days': {'callandtext': 5},\n",
       "             'number_of_contacts': {'text': 8, 'call': 3},\n",
       "             'call_duration': {'call': {'std': 644.2221838948285, 'mean': 1573.3333333333333}},\n",
       "             'percent_nocturnal': {'text': 0.08333333333333333, 'call': 0.1111111111111111},\n",
       "             'percent_initiated_conversations': {'callandtext': 1.0},\n",
       "             'percent_initiated_interactions': {'call': 0.7777777777777778},\n",
       "             'response_delay_text': {'callandtext': {'std': None, 'mean': None}},\n",
       "             'response_rate_text': {'callandtext': 0},\n",
       "             'entropy_of_contacts': {'text': 2.022808529414703, 'call': 0.9649629230074277},\n",
       "             'balance_of_contacts': {'text': {'std': 0.041666666666666664, 'mean': 0.12499999999999999}, 'call': {'std': 0.13857990321384966, 'mean': 0.25925925925925924}},\n",
       "             'interactions_per_contact': {'text': {'std': 0.5, 'mean': 1.5}, 'call': {'std': 1.4142135623730951, 'mean': 3.0}},\n",
       "             'interevent_time': {'text': {'std': 320516.56922877143, 'mean': 147301.0}, 'call': {'std': 26138.89991677873, 'mean': 26361.125}},\n",
       "             'percent_pareto_interactions': {'text': 5, 'call': 2},\n",
       "             'percent_pareto_durations': {'call': 2},\n",
       "             'number_of_interactions': {'text': 12, 'call': 9},\n",
       "             'number_of_interaction_in': {'text': 0, 'call': 2},\n",
       "             'number_of_interaction_out': {'text': 12, 'call': 7},\n",
       "             'number_of_antennas': 17,\n",
       "             'entropy_of_antennas': 2.6390573296152584,\n",
       "             'percent_at_home': 0.07142857142857142,\n",
       "             'radius_of_gyration': 4.789371820200058,\n",
       "             'frequent_antennas': 11})"
      ]
     },
     "execution_count": 18,
     "metadata": {},
     "output_type": "execute_result"
    }
   ],
   "source": [
    "bc.utils.all(U, groupby=None)"
   ]
  },
  {
   "cell_type": "code",
   "execution_count": 19,
   "metadata": {
    "collapsed": false
   },
   "outputs": [
    {
     "name": "stdout",
     "output_type": "stream",
     "text": [
      "Successfully exported 1 object(s) to demo_export_user.csv\n",
      "Successfully exported 1 object(s) to demo_export_user.json\n"
     ]
    }
   ],
   "source": [
    "bc.io.to_csv([bc.utils.all(U, groupby=None)], 'demo_export_user.csv')\n",
    "bc.io.to_json([bc.utils.all(U, groupby=None)], 'demo_export_user.json')"
   ]
  },
  {
   "cell_type": "code",
   "execution_count": 20,
   "metadata": {
    "collapsed": false
   },
   "outputs": [
    {
     "name": "stdout",
     "output_type": "stream",
     "text": [
      "name,reporting__antennas_path,reporting__attributes_path,reporting__version,reporting__groupby,reporting__start_time,reporting__end_time,reporting__bins,reporting__has_call,reporting__has_text,reporting__has_home,reporting__percent_records_missing_location,reporting__antennas_missing_locations,reporting__percent_outofnetwork_calls,reporting__percent_outofnetwork_texts,reporting__percent_outofnetwork_contacts,reporting__percent_outofnetwork_call_durations,reporting__number_of_records,reporting__ignored_records__all,reporting__ignored_records__interaction,reporting__ignored_records__correspondent_id,reporting__ignored_records__call_duration,reporting__ignored_records__direction,reporting__ignored_records__datetime,active_days__callandtext,number_of_contacts__text,number_of_contacts__call,call_duration__call__std,call_duration__call__mean,percent_nocturnal__text,percent_nocturnal__call,percent_initiated_conversations__callandtext,percent_initiated_interactions__call,response_delay_text__callandtext__std,response_delay_text__callandtext__mean,response_rate_text__callandtext,entropy_of_contacts__text,entropy_of_contacts__call,balance_of_contacts__text__std,balance_of_contacts__text__mean,balance_of_contacts__call__std,balance_of_contacts__call__mean,interactions_per_contact__text__std,interactions_per_contact__text__mean,interactions_per_contact__call__std,interactions_per_contact__call__mean,interevent_time__text__std,interevent_time__text__mean,interevent_time__call__std,interevent_time__call__mean,percent_pareto_interactions__text,percent_pareto_interactions__call,percent_pareto_durations__call,number_of_interactions__text,number_of_interactions__call,number_of_interaction_in__text,number_of_interaction_in__call,number_of_interaction_out__text,number_of_interaction_out__call,number_of_antennas,entropy_of_antennas,percent_at_home,radius_of_gyration,frequent_antennas\r",
      "\r\n",
      "user,data/towers.csv,,0.2.3,,2014-07-01 11:11:27,2014-07-20 11:26:27,1,True,True,True,0.0,0,1.0,1.0,1.0,1.0,21,0,0,0,0,0,0,5,8,3,644.22218,1573.33333,0.08333,0.11111,1.0,0.77778,,,0,2.02281,0.96496,0.04167,0.125,0.13858,0.25926,0.5,1.5,1.41421,3.0,320516.56923,147301.0,26138.89992,26361.125,5,2,2,12,9,0,2,12,7,17,2.63906,0.07143,4.78937,11\r",
      "\r\n"
     ]
    }
   ],
   "source": [
    "!head -n 5 demo_export_user.csv"
   ]
  },
  {
   "cell_type": "code",
   "execution_count": null,
   "metadata": {
    "collapsed": true
   },
   "outputs": [],
   "source": []
  }
 ],
 "metadata": {
  "kernelspec": {
   "display_name": "Python 2",
   "language": "python",
   "name": "python2"
  },
  "language_info": {
   "codemirror_mode": {
    "name": "ipython",
    "version": 2
   },
   "file_extension": ".py",
   "mimetype": "text/x-python",
   "name": "python",
   "nbconvert_exporter": "python",
   "pygments_lexer": "ipython2",
   "version": "2.7.9"
  }
 },
 "nbformat": 4,
 "nbformat_minor": 0
}
